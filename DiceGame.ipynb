{
 "cells": [
  {
   "cell_type": "code",
   "execution_count": 14,
   "metadata": {},
   "outputs": [
    {
     "name": "stdout",
     "output_type": "stream",
     "text": [
      "dice_num 0\n",
      "100.00%\n",
      "dice_num 1\n",
      "93.51%\n",
      "dice_num 2\n",
      "74.04%\n",
      "dice_num 3\n",
      "46.78%\n",
      "dice_num 4\n",
      "23.15%\n",
      "dice_num 5\n",
      "8.98%\n",
      "dice_num 6\n",
      "2.74%\n",
      "dice_num 7\n",
      "0.66%\n",
      "dice_num 8\n",
      "0.13%\n",
      "dice_num 9\n",
      "0.02%\n",
      "dice_num 10\n",
      "0.00%\n",
      "dice_num 11\n",
      "0.00%\n",
      "dice_num 12\n",
      "0.00%\n",
      "dice_num 13\n",
      "0.00%\n",
      "dice_num 14\n",
      "0.00%\n",
      "dice_num 15\n",
      "0.00%\n"
     ]
    }
   ],
   "source": [
    "import scipy\n",
    "from scipy import stats\n",
    "import numpy as np\n",
    "import pandas as pd\n",
    "dice_points = [1,2,3,4,5,6]\n",
    "dice_points_count = 6\n",
    "\n",
    "player_num = 3\n",
    "dice_num_per_player = 5\n",
    "\n",
    "dice_num_total = dice_num_per_player * player_num\n",
    "\n",
    "\n",
    "dice_num_choice = np.arange(dice_num_total + 1)\n",
    "for dice_num in dice_num_choice:\n",
    "    print('dice_num' , dice_num)\n",
    "    print('{:.2%}'.format(round(1-stats.binom.cdf(dice_num-1, dice_num_total, 1 / 6),4)))\n"
   ]
  },
  {
   "cell_type": "code",
   "execution_count": 54,
   "metadata": {},
   "outputs": [
    {
     "name": "stdout",
     "output_type": "stream",
     "text": [
      "4个3\n",
      "22.48%\n",
      "4个6\n",
      "51.55%\n"
     ]
    }
   ],
   "source": [
    "# Game begins\n",
    "\n",
    "\n",
    "dice_in_hand = [1,4,6,3,6]\n",
    "dice_in_hand_point_count = [0,0,0,0,0,0]\n",
    "for dice in dice_in_hand:\n",
    "    dice_in_hand_point_count[dice-1] += 1\n",
    "\n",
    "game_dice_num = 3\n",
    "game_point_chosen = 3\n",
    "\n",
    "# Two choices\n",
    "\n",
    "# Choice 1: add dice num while not changing dice point\n",
    "dice_num_added = 1\n",
    "print('{:d}个{:d}'.format((game_dice_num) + dice_num_added,game_point_chosen))\n",
    "print('{:.2%}'.format(round(1-stats.binom.cdf((game_dice_num-1) + dice_num_added - dice_in_hand_point_count[game_point_chosen-1], (player_num-1) * dice_num_per_player, 1 / 6),4)))\n",
    "\n",
    "# Choice 2: add dice num and change dice point\n",
    "point_in_hand_max_count = dice_in_hand_point_count.index(max(dice_in_hand_point_count))+1\n",
    "dice_num_added = 1\n",
    "print('{:d}个{:d}'.format((game_dice_num) + dice_num_added,point_in_hand_max_count))\n",
    "print('{:.2%}'.format(round(1-stats.binom.cdf((game_dice_num-1) + dice_num_added - dice_in_hand_point_count[point_in_hand_max_count-1], (player_num-1) * dice_num_per_player, 1 / 6),4)))\n",
    "\n"
   ]
  },
  {
   "cell_type": "code",
   "execution_count": 66,
   "metadata": {},
   "outputs": [],
   "source": [
    "import random\n",
    "class player():\n",
    "    def __init__(self):\n",
    "        self.dice_in_hand = []\n",
    "        for i in range(5):\n",
    "            self.dice_in_hand.append(random.randint(1,6))\n",
    "    def choice(self,choice,num,point):\n",
    "        if choice == 0:\n",
    "            print('开')\n",
    "        elif choice == 1:\n",
    "            print('{:d}个{:d}'.format(num,point))\n",
    "        else:\n",
    "            print('error')\n",
    "    def print_dice_in_hand(self):\n",
    "        print(self.dice_in_hand)\n",
    "    def technical_analysis(self,player_num,game_dice_num,game_point_chosen):\n",
    "        dice_in_hand_point_count = [0,0,0,0,0,0]\n",
    "        for dice in self.dice_in_hand:\n",
    "            dice_in_hand_point_count[dice-1] += 1\n",
    "        point_in_hand_max_count = dice_in_hand_point_count.index(max(dice_in_hand_point_count))+1\n",
    "\n",
    "        # Choice 1: add dice num while not changing dice point\n",
    "        dice_num_added = 1\n",
    "        print('{:d}个{:d}'.format((game_dice_num) + dice_num_added,game_point_chosen))\n",
    "        print('{:.2%}'.format(round(1-stats.binom.cdf((game_dice_num-1) + dice_num_added - dice_in_hand_point_count[game_point_chosen-1], (player_num-1) * dice_num_per_player, 1 / 6),4)))\n",
    "\n",
    "        # Choice 2: add dice num and change dice point\n",
    "        point_in_hand_max_count = dice_in_hand_point_count.index(max(dice_in_hand_point_count))+1\n",
    "        dice_num_added = 1\n",
    "        print('{:d}个{:d}'.format((game_dice_num) + dice_num_added,point_in_hand_max_count))\n",
    "        print('{:.2%}'.format(round(1-stats.binom.cdf((game_dice_num-1) + dice_num_added - dice_in_hand_point_count[point_in_hand_max_count-1], (player_num-1) * dice_num_per_player, 1 / 6),4)))\n"
   ]
  },
  {
   "cell_type": "code",
   "execution_count": 67,
   "metadata": {},
   "outputs": [],
   "source": [
    "player1 = player()"
   ]
  },
  {
   "cell_type": "code",
   "execution_count": 69,
   "metadata": {},
   "outputs": [
    {
     "name": "stdout",
     "output_type": "stream",
     "text": [
      "[5, 2, 4, 1, 1]\n",
      "4个3\n",
      "6.97%\n",
      "4个1\n",
      "51.55%\n"
     ]
    }
   ],
   "source": [
    "player1.print_dice_in_hand()\n",
    "game_dice_num = 3\n",
    "game_point_chosen = 3\n",
    "player1.technical_analysis(3,game_dice_num,game_point_chosen)"
   ]
  },
  {
   "cell_type": "code",
   "execution_count": 60,
   "metadata": {},
   "outputs": [
    {
     "data": {
      "text/plain": [
       "2"
      ]
     },
     "execution_count": 60,
     "metadata": {},
     "output_type": "execute_result"
    }
   ],
   "source": []
  },
  {
   "cell_type": "code",
   "execution_count": null,
   "metadata": {},
   "outputs": [],
   "source": []
  },
  {
   "cell_type": "code",
   "execution_count": null,
   "metadata": {},
   "outputs": [],
   "source": []
  }
 ],
 "metadata": {
  "kernelspec": {
   "display_name": "Python 3.8.12 ('py4tf')",
   "language": "python",
   "name": "python3"
  },
  "language_info": {
   "codemirror_mode": {
    "name": "ipython",
    "version": 3
   },
   "file_extension": ".py",
   "mimetype": "text/x-python",
   "name": "python",
   "nbconvert_exporter": "python",
   "pygments_lexer": "ipython3",
   "version": "3.8.12"
  },
  "orig_nbformat": 4,
  "vscode": {
   "interpreter": {
    "hash": "571121258990c3076cccab8cdb8a1b847cf35af00b003ed76f2ada50f9eb31f3"
   }
  }
 },
 "nbformat": 4,
 "nbformat_minor": 2
}
