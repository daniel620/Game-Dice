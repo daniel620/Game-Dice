{
 "cells": [
  {
   "cell_type": "code",
   "execution_count": 14,
   "metadata": {},
   "outputs": [
    {
     "name": "stdout",
     "output_type": "stream",
     "text": [
      "dice_num 0\n",
      "100.00%\n",
      "dice_num 1\n",
      "93.51%\n",
      "dice_num 2\n",
      "74.04%\n",
      "dice_num 3\n",
      "46.78%\n",
      "dice_num 4\n",
      "23.15%\n",
      "dice_num 5\n",
      "8.98%\n",
      "dice_num 6\n",
      "2.74%\n",
      "dice_num 7\n",
      "0.66%\n",
      "dice_num 8\n",
      "0.13%\n",
      "dice_num 9\n",
      "0.02%\n",
      "dice_num 10\n",
      "0.00%\n",
      "dice_num 11\n",
      "0.00%\n",
      "dice_num 12\n",
      "0.00%\n",
      "dice_num 13\n",
      "0.00%\n",
      "dice_num 14\n",
      "0.00%\n",
      "dice_num 15\n",
      "0.00%\n"
     ]
    }
   ],
   "source": [
    "import scipy\n",
    "from scipy import stats\n",
    "import numpy as np\n",
    "import pandas as pd\n",
    "dice_points = [1,2,3,4,5,6]\n",
    "dice_points_count = 6\n",
    "\n",
    "player_num = 3\n",
    "dice_num_per_player = 5\n",
    "\n",
    "dice_num_total = dice_num_per_player * player_num\n",
    "\n",
    "\n",
    "dice_num_choice = np.arange(dice_num_total + 1)\n",
    "for dice_num in dice_num_choice:\n",
    "    print('dice_num' , dice_num)\n",
    "    print('{:.2%}'.format(round(1-stats.binom.cdf(dice_num-1, dice_num_total, 1 / 6),4)))\n"
   ]
  },
  {
   "cell_type": "code",
   "execution_count": 54,
   "metadata": {},
   "outputs": [
    {
     "name": "stdout",
     "output_type": "stream",
     "text": [
      "4个3\n",
      "22.48%\n",
      "4个6\n",
      "51.55%\n"
     ]
    }
   ],
   "source": [
    "# Game begins\n",
    "\n",
    "\n",
    "dice_in_hand = [1,4,6,3,6]\n",
    "dice_in_hand_point_count = [0,0,0,0,0,0]\n",
    "for dice in dice_in_hand:\n",
    "    dice_in_hand_point_count[dice-1] += 1\n",
    "\n",
    "game_dice_num = 3\n",
    "game_point_chosen = 3\n",
    "\n",
    "# Two choices\n",
    "\n",
    "# Choice 1: add dice num while not changing dice point\n",
    "dice_num_added = 1\n",
    "print('{:d}个{:d}'.format((game_dice_num) + dice_num_added,game_point_chosen))\n",
    "print('{:.2%}'.format(round(1-stats.binom.cdf((game_dice_num-1) + dice_num_added - dice_in_hand_point_count[game_point_chosen-1], (player_num-1) * dice_num_per_player, 1 / 6),4)))\n",
    "\n",
    "# Choice 2: add dice num and change dice point\n",
    "point_in_hand_max_count = dice_in_hand_point_count.index(max(dice_in_hand_point_count))+1\n",
    "dice_num_added = 1\n",
    "print('{:d}个{:d}'.format((game_dice_num) + dice_num_added,point_in_hand_max_count))\n",
    "print('{:.2%}'.format(round(1-stats.binom.cdf((game_dice_num-1) + dice_num_added - dice_in_hand_point_count[point_in_hand_max_count-1], (player_num-1) * dice_num_per_player, 1 / 6),4)))\n",
    "\n"
   ]
  },
  {
   "cell_type": "code",
   "execution_count": 197,
   "metadata": {},
   "outputs": [],
   "source": [
    "import random\n",
    "class player():\n",
    "    def __init__(self, dices=None):\n",
    "        self.dice_in_hand = []\n",
    "        if dices is None:\n",
    "            for i in range(5):\n",
    "                self.dice_in_hand.append(random.randint(1,6))\n",
    "        else:\n",
    "            self.dice_in_hand = dices\n",
    "    def choice(self,choice,num,point):\n",
    "        if choice == 0:\n",
    "            print('开')\n",
    "        elif choice == 1:\n",
    "            print('{:d}个{:d}'.format(num,point))\n",
    "        else:\n",
    "            print('error')\n",
    "    def print_dice_in_hand(self):\n",
    "        print(self.dice_in_hand)\n",
    "    def technical_analysis(self,player_num,game_dice_num,game_point_chosen,is_one_out=False):\n",
    "        dice_in_hand_point_count = [0,0,0,0,0,0]\n",
    "        for dice in self.dice_in_hand:\n",
    "            dice_in_hand_point_count[dice-1] += 1\n",
    "        point_in_hand_max_count = dice_in_hand_point_count.index(max(dice_in_hand_point_count))+1\n",
    "        if not is_one_out:\n",
    "            one_in_hand_count = dice_in_hand_point_count[0]\n",
    "            if point_in_hand_max_count == 1:\n",
    "                # Choice 1: choose the point is next to 1\n",
    "                temp_dice_in_hand_point_count = dice_in_hand_point_count.copy()\n",
    "                temp_dice_in_hand_point_count[temp_dice_in_hand_point_count.index(max(temp_dice_in_hand_point_count))] = 0\n",
    "                new_point_in_hand_max_count = temp_dice_in_hand_point_count.index(max(temp_dice_in_hand_point_count))+1\n",
    "                dice_num_added = 1\n",
    "                print('{:d}个{:d}'.format((game_dice_num) + dice_num_added,new_point_in_hand_max_count))\n",
    "                print('{:.2%}'.format(round(1-stats.binom.cdf((game_dice_num-1) + dice_num_added - dice_in_hand_point_count[new_point_in_hand_max_count-1]-one_in_hand_count, (player_num-1) * dice_num_per_player, 2 / 6),4)))\n",
    "                # Choice 2: choose 1 as the point\n",
    "                print('{:d}个{:d}'.format((player_num),1))\n",
    "                print('{:.2%}'.format(round(1-stats.binom.cdf((player_num-1)  - one_in_hand_count, (player_num-1) * dice_num_per_player, 1 / 6),4)))\n",
    "\n",
    "            else:\n",
    "                # Choice 1: add dice num while not changing dice point\n",
    "                dice_num_added = 1\n",
    "                print('{:d}个{:d}'.format((game_dice_num) + dice_num_added,game_point_chosen))\n",
    "                # print('{:.2%}'.format(round(1-stats.binom.cdf((game_dice_num + dice_num_added - dice_in_hand_point_count[game_point_chosen-1]-one_in_hand_count) * 2 - 1, (player_num-1) * dice_num_per_player, 1 / 6),4)))\n",
    "                print('{:.2%}'.format(round(1-stats.binom.cdf((game_dice_num-1) + dice_num_added - dice_in_hand_point_count[game_point_chosen-1]-one_in_hand_count, (player_num-1) * dice_num_per_player, 2 / 6),4)))\n",
    "\n",
    "                # Choice 2: add dice num and change dice point\n",
    "                dice_num_added = 1\n",
    "                print('{:d}个{:d}'.format((game_dice_num) + dice_num_added,point_in_hand_max_count))\n",
    "                print('{:.2%}'.format(round(1-stats.binom.cdf((game_dice_num-1) + dice_num_added - dice_in_hand_point_count[point_in_hand_max_count-1]-one_in_hand_count, (player_num-1) * dice_num_per_player, 2 / 6),4)))\n",
    "        else:\n",
    "            # Choice 1: add dice num while not changing dice point\n",
    "            dice_num_added = 1\n",
    "            print('{:d}个{:d}'.format((game_dice_num) + dice_num_added,game_point_chosen))\n",
    "            print('{:.2%}'.format(round(1-stats.binom.cdf((game_dice_num-1) + dice_num_added - dice_in_hand_point_count[game_point_chosen-1], (player_num-1) * dice_num_per_player, 1 / 6),4)))\n",
    "\n",
    "            # Choice 2: add dice num and change dice point\n",
    "            dice_num_added = 1\n",
    "            print('{:d}个{:d}'.format((game_dice_num) + dice_num_added,point_in_hand_max_count))\n",
    "            print('{:.2%}'.format(round(1-stats.binom.cdf((game_dice_num-1) + dice_num_added - dice_in_hand_point_count[point_in_hand_max_count-1], (player_num-1) * dice_num_per_player, 1 / 6),4)))\n"
   ]
  },
  {
   "cell_type": "code",
   "execution_count": 200,
   "metadata": {},
   "outputs": [
    {
     "name": "stdout",
     "output_type": "stream",
     "text": [
      "[1, 4, 2, 6, 6]\n",
      "[1, 1, 2, 2, 3]\n",
      "[5, 6, 6, 3, 5]\n"
     ]
    }
   ],
   "source": [
    "player1 = player()\n",
    "player2 = player([1,1,2,2,3])\n",
    "player3 = player()\n",
    "player1.print_dice_in_hand()\n",
    "player2.print_dice_in_hand()\n",
    "player3.print_dice_in_hand()"
   ]
  },
  {
   "cell_type": "code",
   "execution_count": 204,
   "metadata": {},
   "outputs": [
    {
     "name": "stdout",
     "output_type": "stream",
     "text": [
      "6个2\n",
      "89.60%\n",
      "3个1\n",
      "83.85%\n"
     ]
    }
   ],
   "source": [
    "player2.technical_analysis(3,5,2,False)"
   ]
  },
  {
   "cell_type": "code",
   "execution_count": 169,
   "metadata": {},
   "outputs": [
    {
     "name": "stdout",
     "output_type": "stream",
     "text": [
      "[4, 4, 4, 6, 2]\n",
      "4个3\n",
      "44.07%\n",
      "4个4\n",
      "83.85%\n"
     ]
    }
   ],
   "source": [
    "player1.print_dice_in_hand()\n",
    "game_dice_num = 3\n",
    "game_point_chosen = 3\n",
    "player1.technical_analysis(3,game_dice_num,game_point_chosen)"
   ]
  },
  {
   "cell_type": "code",
   "execution_count": 98,
   "metadata": {},
   "outputs": [
    {
     "name": "stdout",
     "output_type": "stream",
     "text": [
      "74.04%\n"
     ]
    }
   ],
   "source": [
    "def prob(x,n):\n",
    "    # 假设实际某花色个数为 k\n",
    "    # n 个里 x > k 的概率\n",
    "    p1 = stats.binom.cdf(x-1,n,1/6)\n",
    "\n",
    "    # n 个里至少有 x 个某个 point 的概率: x <= k\n",
    "    return 1 - stats.binom.cdf(x-1,n,1/6)\n",
    "t = prob(2,15)\n",
    "print('{:.2%}'.format(t))"
   ]
  },
  {
   "cell_type": "markdown",
   "metadata": {},
   "source": [
    "# Monte Carlo simulation"
   ]
  },
  {
   "cell_type": "code",
   "execution_count": 14,
   "metadata": {},
   "outputs": [
    {
     "name": "stdout",
     "output_type": "stream",
     "text": [
      "result: 44.80%                \n"
     ]
    }
   ],
   "source": [
    "total = 10\n",
    "win_count = 0\n",
    "test_count = 500\n",
    "record_win_rate = []\n",
    "# 44.07%\n",
    "import random\n",
    "for test in range(test_count):\n",
    "    dices = []\n",
    "    for i in range(total):\n",
    "        dices.append(random.randint(1,6))\n",
    "    if dices.count(1) + dices.count(3) >= 4:\n",
    "        win_count += 1\n",
    "    record_win_rate.append(win_count/(test+1))\n",
    "    print('{:3.2%}'.format((test+1)/test_count) +'[' +'*'*int((test+1)/test_count * 10) + '-'*(10-int((test+1)/test_count * 10)) + ']',end='\\r',sep='')\n",
    "    # print('{:.2%}\\r'.format((test+1)/test_count),end='')\n",
    "print(' '*30,end='\\r')\n",
    "print('result: {:.2%}'.format(win_count/test_count))\n"
   ]
  },
  {
   "cell_type": "code",
   "execution_count": 11,
   "metadata": {},
   "outputs": [
    {
     "ename": "AttributeError",
     "evalue": "'list' object has no attribute 'shape'",
     "output_type": "error",
     "traceback": [
      "\u001b[0;31m---------------------------------------------------------------------------\u001b[0m",
      "\u001b[0;31mAttributeError\u001b[0m                            Traceback (most recent call last)",
      "\u001b[1;32m/Users/kuzaowuwei/Documents/GitHub/Game-Dice/DiceGame.ipynb Cell 10\u001b[0m in \u001b[0;36m<module>\u001b[0;34m\u001b[0m\n\u001b[0;32m----> <a href='vscode-notebook-cell:/Users/kuzaowuwei/Documents/GitHub/Game-Dice/DiceGame.ipynb#X24sZmlsZQ%3D%3D?line=0'>1</a>\u001b[0m record_win_rate\u001b[39m.\u001b[39;49mshape\n",
      "\u001b[0;31mAttributeError\u001b[0m: 'list' object has no attribute 'shape'"
     ]
    }
   ],
   "source": []
  },
  {
   "cell_type": "code",
   "execution_count": 18,
   "metadata": {},
   "outputs": [
    {
     "data": {
      "image/png": "[encoded data removed]",
      "text/plain": [
       "<Figure size 432x288 with 1 Axes>"
      ]
     },
     "metadata": {
      "needs_background": "light"
     },
     "output_type": "display_data"
    }
   ],
   "source": [
    "import matplotlib.pyplot as plt\n",
    "import numpy as np\n",
    "plt.plot(range(500), 0.4407*np.ones(500), 'r--', label='Expected probability of winning')\n",
    "plt.plot(record_win_rate[:500],label='Simulation result')\n",
    "plt.xlim(0,500)\n",
    "plt.ylim(0,1)\n",
    "# 图例,标题,坐标轴标签\n",
    "# 标签\n",
    "plt.xlabel('Number of Simulations')\n",
    "plt.ylabel('Chance of Winning')\n",
    "plt.legend()\n",
    "plt.title('Monte Carlo Simulation')\n",
    "# save\n",
    "plt.savefig('Monte Carlo Simulation.jpg',dpi=300,bbox_inches='tight')\n",
    "plt.show()\n",
    "\n"
   ]
  },
  {
   "cell_type": "code",
   "execution_count": 146,
   "metadata": {},
   "outputs": [
    {
     "name": "stdout",
     "output_type": "stream",
     "text": [
      "1234567\n"
     ]
    }
   ],
   "source": [
    "print('12345678' + '\\b\\b\\b\\b\\b')"
   ]
  },
  {
   "cell_type": "code",
   "execution_count": 193,
   "metadata": {},
   "outputs": [],
   "source": [
    "l1 = [3,0,1,0,1]"
   ]
  },
  {
   "cell_type": "code",
   "execution_count": 196,
   "metadata": {},
   "outputs": [
    {
     "data": {
      "text/plain": [
       "2"
      ]
     },
     "execution_count": 196,
     "metadata": {},
     "output_type": "execute_result"
    }
   ],
   "source": [
    "l2 = l1.copy()\n",
    "l2[l2.index(max(l2))] = 0\n",
    "l2.index(max(l2))"
   ]
  },
  {
   "cell_type": "code",
   "execution_count": 23,
   "metadata": {},
   "outputs": [],
   "source": [
    "import numpy as np\n",
    "input = '1, 2,3'\n",
    "l = np.array(input.replace(' ','').split(','),dtype=int)"
   ]
  },
  {
   "cell_type": "code",
   "execution_count": 25,
   "metadata": {},
   "outputs": [
    {
     "data": {
      "text/plain": [
       "[1, 2, 3]"
      ]
     },
     "execution_count": 25,
     "metadata": {},
     "output_type": "execute_result"
    }
   ],
   "source": [
    "l.tolist()"
   ]
  },
  {
   "cell_type": "code",
   "execution_count": 7,
   "metadata": {},
   "outputs": [
    {
     "data": {
      "text/plain": [
       "False"
      ]
     },
     "execution_count": 7,
     "metadata": {},
     "output_type": "execute_result"
    }
   ],
   "source": [
    "bool(int(\"0\"))"
   ]
  },
  {
   "cell_type": "code",
   "execution_count": 2,
   "metadata": {},
   "outputs": [
    {
     "data": {
      "text/plain": [
       "[1, 2]"
      ]
     },
     "execution_count": 2,
     "metadata": {},
     "output_type": "execute_result"
    }
   ],
   "source": [
    "l = []\n",
    "l.append(1)\n",
    "l.append(2)\n",
    "l"
   ]
  },
  {
   "cell_type": "code",
   "execution_count": null,
   "metadata": {},
   "outputs": [],
   "source": []
  }
 ],
 "metadata": {
  "kernelspec": {
   "display_name": "Python 3.8.12 ('py4tf')",
   "language": "python",
   "name": "python3"
  },
  "language_info": {
   "codemirror_mode": {
    "name": "ipython",
    "version": 3
   },
   "file_extension": ".py",
   "mimetype": "text/x-python",
   "name": "python",
   "nbconvert_exporter": "python",
   "pygments_lexer": "ipython3",
   "version": "3.8.12"
  },
  "orig_nbformat": 4,
  "vscode": {
   "interpreter": {
    "hash": "571121258990c3076cccab8cdb8a1b847cf35af00b003ed76f2ada50f9eb31f3"
   }
  }
 },
 "nbformat": 4,
 "nbformat_minor": 2
}
